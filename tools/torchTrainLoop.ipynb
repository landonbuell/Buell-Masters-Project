{
 "cells": [
  {
   "cell_type": "code",
   "execution_count": 1,
   "id": "9600db86",
   "metadata": {},
   "outputs": [],
   "source": [
    "import torch"
   ]
  },
  {
   "cell_type": "code",
   "execution_count": 5,
   "id": "5cfc1d5d",
   "metadata": {},
   "outputs": [],
   "source": [
    "weights = torch.Tensor([1,2,3,4])\n",
    "biases = torch.Tensor([-2])\n"
   ]
  },
  {
   "cell_type": "code",
   "execution_count": null,
   "id": "7273d5ea",
   "metadata": {},
   "outputs": [],
   "source": [
    "X_train = torch."
   ]
  }
 ],
 "metadata": {
  "kernelspec": {
   "display_name": "Python 3 (ipykernel)",
   "language": "python",
   "name": "python3"
  },
  "language_info": {
   "codemirror_mode": {
    "name": "ipython",
    "version": 3
   },
   "file_extension": ".py",
   "mimetype": "text/x-python",
   "name": "python",
   "nbconvert_exporter": "python",
   "pygments_lexer": "ipython3",
   "version": "3.9.9"
  }
 },
 "nbformat": 4,
 "nbformat_minor": 5
}
