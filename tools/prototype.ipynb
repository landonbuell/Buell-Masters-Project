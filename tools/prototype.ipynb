{
 "cells": [
  {
   "cell_type": "markdown",
   "id": "3496c64e",
   "metadata": {},
   "source": [
    "## ASL Alphabet Classification\n",
    "#### Landon Buell - July 2023"
   ]
  },
  {
   "cell_type": "code",
   "execution_count": 2,
   "id": "1a7f7556",
   "metadata": {},
   "outputs": [],
   "source": [
    "import os\n",
    "import matplotlib.pyplot as plt\n",
    "\n",
    "import torch\n",
    "import torchvision"
   ]
  },
  {
   "cell_type": "code",
   "execution_count": null,
   "id": "5a1587cf",
   "metadata": {},
   "outputs": [],
   "source": [
    "pathToFullDesignMatrix = os.path.abspath(\"..//\")"
   ]
  }
 ],
 "metadata": {
  "kernelspec": {
   "display_name": "Python 3 (ipykernel)",
   "language": "python",
   "name": "python3"
  },
  "language_info": {
   "codemirror_mode": {
    "name": "ipython",
    "version": 3
   },
   "file_extension": ".py",
   "mimetype": "text/x-python",
   "name": "python",
   "nbconvert_exporter": "python",
   "pygments_lexer": "ipython3",
   "version": "3.9.9"
  }
 },
 "nbformat": 4,
 "nbformat_minor": 5
}
