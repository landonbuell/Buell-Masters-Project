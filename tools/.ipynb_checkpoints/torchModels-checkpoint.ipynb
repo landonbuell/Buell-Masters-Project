{
 "cells": [
  {
   "cell_type": "markdown",
   "id": "48d51821",
   "metadata": {},
   "source": [
    "## Playing with PyTorch Models\n",
    "#### Landon Buell - June 2023"
   ]
  },
  {
   "cell_type": "code",
   "execution_count": 1,
   "id": "9998fdc3",
   "metadata": {},
   "outputs": [],
   "source": [
    "import torch\n",
    "import torchinfo"
   ]
  },
  {
   "cell_type": "code",
   "execution_count": 22,
   "id": "15274c13",
   "metadata": {},
   "outputs": [],
   "source": [
    "NUM_CLASSES = 10\n",
    "BATCH_SIZE = 16\n",
    "SAMPLE_SHAPE = (3,200,200)\n",
    "\n",
    "X = torch.zeros(size=((BATCH_SIZE,) + SAMPLE_SHAPE))"
   ]
  },
  {
   "cell_type": "code",
   "execution_count": 23,
   "id": "1e75146f",
   "metadata": {},
   "outputs": [
    {
     "data": {
      "text/plain": [
       "torch.Size([16, 3, 200, 200])"
      ]
     },
     "execution_count": 23,
     "metadata": {},
     "output_type": "execute_result"
    }
   ],
   "source": [
    "X.shape"
   ]
  },
  {
   "cell_type": "markdown",
   "id": "34527c08",
   "metadata": {},
   "source": [
    "#### Create a \"torch.nn.Module\" subclass "
   ]
  },
  {
   "cell_type": "code",
   "execution_count": 52,
   "id": "8db8d49d",
   "metadata": {},
   "outputs": [],
   "source": [
    "class Conv2dVGG16(torch.nn.Module):\n",
    "    \"\"\" 2D Convolutional Neural Network inspired from the VGG-16 architecture \"\"\"\n",
    "\n",
    "    def __init__(self,\n",
    "                 numClasses: int):\n",
    "        \"\"\" Constructor \"\"\"\n",
    "        super().__init__()\n",
    "        self.numOutputs = numClasses\n",
    "        # 1st layer group\n",
    "        self._conv1A  = torch.nn.Sequential(\n",
    "            torch.nn.Conv2d(\n",
    "                in_channels=3,\n",
    "                out_channels=64,\n",
    "                kernel_size=(3,3),\n",
    "                stride=(1,1)),\n",
    "            torch.nn.ReLU())      \n",
    "        self._conv1B  = torch.nn.Sequential(\n",
    "            torch.nn.Conv2d(\n",
    "                in_channels=64,\n",
    "                out_channels=64,\n",
    "                kernel_size=(3,3),\n",
    "                stride=(1,1)),\n",
    "            torch.nn.ReLU())\n",
    "        self._pool01 = torch.nn.Sequential(\n",
    "            torch.nn.MaxPool2d(\n",
    "                kernel_size=(3,3),\n",
    "                stride=(1,1)))\n",
    "        # 2nd Layer Group\n",
    "        self._conv2A  = torch.nn.Sequential(\n",
    "            torch.nn.Conv2d(\n",
    "                in_channels=64,\n",
    "                out_channels=64,\n",
    "                kernel_size=(3,3),\n",
    "                stride=(1,1)),\n",
    "            torch.nn.ReLU())      \n",
    "        self._conv2B  = torch.nn.Sequential(\n",
    "            torch.nn.Conv2d(\n",
    "                in_channels=64,\n",
    "                out_channels=64,\n",
    "                kernel_size=(3,3),\n",
    "                stride=(1,1)),\n",
    "            torch.nn.ReLU())\n",
    "        self._pool02 = torch.nn.Sequential(\n",
    "            torch.nn.MaxPool2d(\n",
    "                kernel_size=(3,3),\n",
    "                stride=(2,2)))\n",
    "        \n",
    "        # Flatten + Dense Layers\n",
    "        self._flatten = torch.nn.Sequential(\n",
    "            torch.nn.Flatten(\n",
    "                start_dim=1,\n",
    "                end_dim=-1))\n",
    "       \n",
    "        \n",
    "        # Define List of Sequential Objects to run\n",
    "        self._toRun = self.__initSequentialOrder()\n",
    "        \n",
    "        # END __init__()\n",
    "            \n",
    "        \n",
    "    def __del__(self):\n",
    "        \"\"\" Destructor \"\"\"\n",
    "        #super().__del__()\n",
    "\n",
    "    def __initSequentialOrder(self):\n",
    "        \"\"\" Init the order of Sequential memebers to run \"\"\"\n",
    "        toRun = [\n",
    "            self._conv1A,\n",
    "            self._conv1B,\n",
    "            self._pool01,\n",
    "            \n",
    "            self._conv2A,\n",
    "            self._conv2B,\n",
    "            self._pool02,\n",
    "            \n",
    "            self._flatten\n",
    "        ]\n",
    "        return toRun\n",
    "        \n",
    "    # Public Interface\n",
    "\n",
    "    def forward(self,x):\n",
    "        \"\"\" Module's forward-pass mechanism \"\"\"\n",
    "        y = x\n",
    "        print(y.shape)\n",
    "        for ii,layer in enumerate(self._toRun):\n",
    "            y = layer.__call__(y)\n",
    "            msg = \"Layer {0}: y.shape = {1}\".format(ii,y.shape)\n",
    "            print(msg)\n",
    "        return y\n"
   ]
  },
  {
   "cell_type": "code",
   "execution_count": 53,
   "id": "fa69e46e",
   "metadata": {},
   "outputs": [],
   "source": [
    "m = Conv2dVGG16(NUM_CLASSES)"
   ]
  },
  {
   "cell_type": "code",
   "execution_count": 54,
   "id": "3d9a3757",
   "metadata": {},
   "outputs": [
    {
     "name": "stdout",
     "output_type": "stream",
     "text": [
      "torch.Size([16, 3, 200, 200])\n",
      "Layer 0: y.shape = torch.Size([16, 64, 198, 198])\n",
      "Layer 1: y.shape = torch.Size([16, 64, 196, 196])\n",
      "Layer 2: y.shape = torch.Size([16, 64, 97, 97])\n",
      "Layer 3: y.shape = torch.Size([16, 64, 95, 95])\n",
      "Layer 4: y.shape = torch.Size([16, 64, 93, 93])\n",
      "Layer 5: y.shape = torch.Size([16, 64, 46, 46])\n",
      "Layer 6: y.shape = torch.Size([16, 135424])\n"
     ]
    }
   ],
   "source": [
    "y = m(X)"
   ]
  },
  {
   "cell_type": "code",
   "execution_count": null,
   "id": "831ac210",
   "metadata": {},
   "outputs": [],
   "source": []
  }
 ],
 "metadata": {
  "kernelspec": {
   "display_name": "Python 3 (ipykernel)",
   "language": "python",
   "name": "python3"
  },
  "language_info": {
   "codemirror_mode": {
    "name": "ipython",
    "version": 3
   },
   "file_extension": ".py",
   "mimetype": "text/x-python",
   "name": "python",
   "nbconvert_exporter": "python",
   "pygments_lexer": "ipython3",
   "version": "3.9.9"
  }
 },
 "nbformat": 4,
 "nbformat_minor": 5
}
