{
 "cells": [
  {
   "cell_type": "markdown",
   "id": "b8324df2",
   "metadata": {},
   "source": [
    "## Playing with More PyTorch Models\n",
    "#### Landon Buell - June 2023"
   ]
  },
  {
   "cell_type": "code",
   "execution_count": 3,
   "id": "edfe8706",
   "metadata": {},
   "outputs": [],
   "source": [
    "import torch"
   ]
  },
  {
   "cell_type": "code",
   "execution_count": 4,
   "id": "07daafd6",
   "metadata": {},
   "outputs": [],
   "source": [
    "NUM_CLASSES = 10\n",
    "BATCH_SIZE = 128\n",
    "SAMPLE_SHAPE = (3,64,64)\n",
    "\n",
    "X = torch.zeros(size=((BATCH_SIZE,) + SAMPLE_SHAPE))"
   ]
  },
  {
   "cell_type": "code",
   "execution_count": 5,
   "id": "7d3892fc",
   "metadata": {},
   "outputs": [
    {
     "data": {
      "text/plain": [
       "torch.Size([128, 3, 64, 64])"
      ]
     },
     "execution_count": 5,
     "metadata": {},
     "output_type": "execute_result"
    }
   ],
   "source": [
    "X.shape"
   ]
  },
  {
   "cell_type": "code",
   "execution_count": 7,
   "id": "eee178f7",
   "metadata": {},
   "outputs": [],
   "source": [
    "class MyCNN(torch.nn.Module):\n",
    "    \"\"\" Basic CNN for Image classification \"\"\"\n",
    "    \n",
    "    def __init__(self,numClasses: int):\n",
    "        \"\"\" Constructor \"\"\"\n",
    "        super().__init__()\n",
    "        self._numClasses = 10\n",
    "        # Layer Group 01\n",
    "        self.layer00 = torch.nn.Sequential(\n",
    "                            torch.nn.Conv2d(\n",
    "                                in_channels=3,\n",
    "                                out_channels=16,\n",
    "                                kernel_size=(3,3),\n",
    "                                stride=(1,1,)),\n",
    "                            torch.nn.ReLU())\n",
    "        self.layer01 = torch.nn.Sequential(\n",
    "                            torch.nn.Conv2d(\n",
    "                                in_channels=16,\n",
    "                                out_channels=16,\n",
    "                                kernel_size=(3,3),\n",
    "                                stride=(1,1,)),\n",
    "                            torch.nn.ReLU())\n",
    "        self.layer02 = torch.nn.Sequential(\n",
    "                            torch.nn.MaxPool2d(\n",
    "                                kernel_size=(2,2),\n",
    "                                stride=(2,2)))\n",
    "        # Layer Group 02\n",
    "        self.layer03 = torch.nn.Sequential(\n",
    "                            torch.nn.Conv2d(\n",
    "                                in_channels=16,\n",
    "                                out_channels=32,\n",
    "                                kernel_size=(3,3),\n",
    "                                stride=(1,1,)),\n",
    "                            torch.nn.ReLU())\n",
    "        self.layer04 = torch.nn.Sequential(\n",
    "                            torch.nn.Conv2d(\n",
    "                                in_channels=32,\n",
    "                                out_channels=32,\n",
    "                                kernel_size=(3,3),\n",
    "                                stride=(1,1,)),\n",
    "                            torch.nn.ReLU())\n",
    "        self.layer05 = torch.nn.Sequential(\n",
    "                            torch.nn.MaxPool2d(\n",
    "                                kernel_size=(2,2),\n",
    "                                stride=(2,2)))\n",
    "        # Layer Group 03\n",
    "        self.layer06 = torch.nn.Sequential(\n",
    "                            torch.nn.Conv2d(\n",
    "                                in_channels=32,\n",
    "                                out_channels=64,\n",
    "                                kernel_size=(3,3),\n",
    "                                stride=(1,1,)),\n",
    "                            torch.nn.ReLU())\n",
    "        self.layer07 = torch.nn.Sequential(\n",
    "                            torch.nn.Conv2d(\n",
    "                                in_channels=64,\n",
    "                                out_channels=64,\n",
    "                                kernel_size=(3,3),\n",
    "                                stride=(1,1,)),\n",
    "                            torch.nn.ReLU())\n",
    "        self.layer08 = torch.nn.Sequential(\n",
    "                            torch.nn.MaxPool2d(\n",
    "                                kernel_size=(2,2),\n",
    "                                stride=(2,2)))   \n",
    "        # Layer Group 04\n",
    "        self.layer09 = torch.nn.Sequential(\n",
    "                            torch.nn.Conv2d(\n",
    "                                in_channels=64,\n",
    "                                out_channels=128,\n",
    "                                kernel_size=(3,3),\n",
    "                                stride=(1,1,)),\n",
    "                            torch.nn.ReLU())\n",
    "        self.layer10 = torch.nn.Sequential(\n",
    "                            torch.nn.Conv2d(\n",
    "                                in_channels=128,\n",
    "                                out_channels=128,\n",
    "                                kernel_size=(3,3),\n",
    "                                stride=(1,1,)),\n",
    "                            torch.nn.ReLU())\n",
    "        self.layer11 = torch.nn.Sequential(\n",
    "                            torch.nn.MaxPool2d(\n",
    "                                kernel_size=(2,2),\n",
    "                                stride=(2,2)))\n",
    "        flattenNodes = (128 * 7 * 7) # = 6272\n",
    "        self.layer12 = torch.nn.Sequential(\n",
    "                            torch.nn.Flatten() )\n",
    "       \n",
    "        \n",
    "    def forward(self,x):\n",
    "        \"\"\" Define Forward Pass \"\"\"\n",
    "        x = self.layer00(x)\n",
    "        x = self.layer01(x)\n",
    "        x = self.layer02(x)\n",
    "        x = self.layer03(x)\n",
    "        x = self.layer04(x)\n",
    "        x = self.layer05(x)\n",
    "        x = self.layer06(x)\n",
    "        x = self.layer07(x)\n",
    "        x = self.layer08(x)\n",
    "        x = self.layer09(x)\n",
    "        x = self.layer10(x)\n",
    "        x = self.layer11(x)\n",
    "\n",
    "        print(x.shape)\n",
    "        return x\n",
    "            \n",
    "        "
   ]
  },
  {
   "cell_type": "code",
   "execution_count": 8,
   "id": "04223011",
   "metadata": {},
   "outputs": [],
   "source": [
    "model = MyCNN(10)\n"
   ]
  },
  {
   "cell_type": "code",
   "execution_count": 10,
   "id": "bb2dacd6",
   "metadata": {},
   "outputs": [
    {
     "name": "stdout",
     "output_type": "stream",
     "text": [
      "torch.Size([128, 16, 62, 62])\n"
     ]
    }
   ],
   "source": [
    "layer00 = torch.nn.Sequential(\n",
    "            torch.nn.Conv2d(\n",
    "                in_channels=3,\n",
    "                out_channels=16,\n",
    "                kernel_size=(3,3),\n",
    "                stride=(1,1,)),\n",
    "            torch.nn.ReLU())\n",
    "\n",
    "x00 = layer00(X)\n",
    "print(x00.shape)"
   ]
  },
  {
   "cell_type": "code",
   "execution_count": 11,
   "id": "1e69054b",
   "metadata": {},
   "outputs": [
    {
     "name": "stdout",
     "output_type": "stream",
     "text": [
      "torch.Size([128, 16, 60, 60])\n"
     ]
    }
   ],
   "source": [
    "layer01 = torch.nn.Sequential(\n",
    "            torch.nn.Conv2d(\n",
    "                in_channels=16,\n",
    "                out_channels=16,\n",
    "                kernel_size=(3,3),\n",
    "                stride=(1,1,)),\n",
    "            torch.nn.ReLU())\n",
    "\n",
    "x01 = layer01(x00)\n",
    "print(x01.shape)"
   ]
  },
  {
   "cell_type": "code",
   "execution_count": 18,
   "id": "dfbc7dfe",
   "metadata": {},
   "outputs": [
    {
     "name": "stdout",
     "output_type": "stream",
     "text": [
      "torch.Size([128, 16, 30, 30])\n"
     ]
    }
   ],
   "source": [
    "layer02 = torch.nn.Sequential(\n",
    "            torch.nn.MaxPool2d(\n",
    "                kernel_size=(2,2),\n",
    "                stride=(2,2)))\n",
    "\n",
    "x02 = layer02(x01)\n",
    "print(x02.shape)"
   ]
  },
  {
   "cell_type": "code",
   "execution_count": 19,
   "id": "0463548a",
   "metadata": {},
   "outputs": [
    {
     "name": "stdout",
     "output_type": "stream",
     "text": [
      "torch.Size([128, 32, 28, 28])\n"
     ]
    }
   ],
   "source": [
    "layer03 = torch.nn.Sequential(\n",
    "            torch.nn.Conv2d(\n",
    "                in_channels=16,\n",
    "                out_channels=32,\n",
    "                kernel_size=(3,3),\n",
    "                stride=(1,1,)),\n",
    "            torch.nn.ReLU())\n",
    "\n",
    "x03 = layer03(x02)\n",
    "print(x03.shape)"
   ]
  },
  {
   "cell_type": "code",
   "execution_count": 20,
   "id": "ccd2f68e",
   "metadata": {},
   "outputs": [
    {
     "name": "stdout",
     "output_type": "stream",
     "text": [
      "torch.Size([128, 32, 26, 26])\n"
     ]
    }
   ],
   "source": [
    "layer04 = torch.nn.Sequential(\n",
    "            torch.nn.Conv2d(\n",
    "                in_channels=32,\n",
    "                out_channels=32,\n",
    "                kernel_size=(3,3),\n",
    "                stride=(1,1,)),\n",
    "            torch.nn.ReLU())\n",
    "\n",
    "x04 = layer04(x03)\n",
    "print(x04.shape)"
   ]
  },
  {
   "cell_type": "code",
   "execution_count": 21,
   "id": "e459c5f7",
   "metadata": {},
   "outputs": [
    {
     "name": "stdout",
     "output_type": "stream",
     "text": [
      "torch.Size([128, 32, 13, 13])\n"
     ]
    }
   ],
   "source": [
    "layer05 = torch.nn.Sequential(\n",
    "            torch.nn.MaxPool2d(\n",
    "                kernel_size=(2,2),\n",
    "                stride=(2,2)))\n",
    "\n",
    "x05 = layer05(x04)\n",
    "print(x05.shape)"
   ]
  },
  {
   "cell_type": "code",
   "execution_count": 22,
   "id": "b350da83",
   "metadata": {},
   "outputs": [
    {
     "name": "stdout",
     "output_type": "stream",
     "text": [
      "torch.Size([128, 64, 11, 11])\n"
     ]
    }
   ],
   "source": [
    "layer06 = torch.nn.Sequential(\n",
    "            torch.nn.Conv2d(\n",
    "                in_channels=32,\n",
    "                out_channels=64,\n",
    "                kernel_size=(3,3),\n",
    "                stride=(1,1,)),\n",
    "            torch.nn.ReLU())\n",
    "\n",
    "x06 = layer06(x05)\n",
    "print(x06.shape)"
   ]
  },
  {
   "cell_type": "code",
   "execution_count": 23,
   "id": "d4814d9d",
   "metadata": {},
   "outputs": [
    {
     "name": "stdout",
     "output_type": "stream",
     "text": [
      "torch.Size([128, 64, 9, 9])\n"
     ]
    }
   ],
   "source": [
    "layer07 = torch.nn.Sequential(\n",
    "            torch.nn.Conv2d(\n",
    "                in_channels=64,\n",
    "                out_channels=64,\n",
    "                kernel_size=(3,3),\n",
    "                stride=(1,1,)),\n",
    "            torch.nn.ReLU())\n",
    "\n",
    "x07 = layer07(x06)\n",
    "print(x07.shape)"
   ]
  },
  {
   "cell_type": "code",
   "execution_count": 24,
   "id": "96584c11",
   "metadata": {},
   "outputs": [
    {
     "name": "stdout",
     "output_type": "stream",
     "text": [
      "torch.Size([128, 64, 4, 4])\n"
     ]
    }
   ],
   "source": [
    "layer08 = torch.nn.Sequential(\n",
    "            torch.nn.MaxPool2d(\n",
    "                kernel_size=(2,2),\n",
    "                stride=(2,2)))\n",
    "\n",
    "x08 = layer08(x07)\n",
    "print(x08.shape)"
   ]
  },
  {
   "cell_type": "code",
   "execution_count": 27,
   "id": "b1b7157e",
   "metadata": {},
   "outputs": [
    {
     "name": "stdout",
     "output_type": "stream",
     "text": [
      "torch.Size([128, 1024])\n"
     ]
    }
   ],
   "source": [
    "layer09 = torch.nn.Sequential(\n",
    "            torch.nn.Flatten(\n",
    "                start_dim=1,\n",
    "                end_dim=-1))\n",
    "\n",
    "x09 = layer09(x08)\n",
    "print(x09.shape)"
   ]
  },
  {
   "cell_type": "code",
   "execution_count": 30,
   "id": "da54b4a2",
   "metadata": {},
   "outputs": [
    {
     "name": "stdout",
     "output_type": "stream",
     "text": [
      "torch.Size([128, 512])\n"
     ]
    }
   ],
   "source": [
    "layer10 = torch.nn.Sequential(\n",
    "            torch.nn.Linear(\n",
    "                in_features=1024,\n",
    "                out_features=512),\n",
    "            torch.nn.ReLU())\n",
    "\n",
    "x10 = layer10(x09)\n",
    "print(x10.shape)"
   ]
  },
  {
   "cell_type": "code",
   "execution_count": 31,
   "id": "a13562f3",
   "metadata": {},
   "outputs": [
    {
     "name": "stdout",
     "output_type": "stream",
     "text": [
      "torch.Size([128, 256])\n"
     ]
    }
   ],
   "source": [
    "layer11 = torch.nn.Sequential(\n",
    "            torch.nn.Linear(\n",
    "                in_features=512,\n",
    "                out_features=256),\n",
    "            torch.nn.ReLU())\n",
    "\n",
    "x11 = layer11(x10)\n",
    "print(x11.shape)"
   ]
  },
  {
   "cell_type": "code",
   "execution_count": null,
   "id": "184f8e91",
   "metadata": {},
   "outputs": [],
   "source": [
    "def describe(model,inputShape):\n",
    "    \"\"\" Describe a Model\"\"\"\n",
    "    \n",
    "    "
   ]
  }
 ],
 "metadata": {
  "kernelspec": {
   "display_name": "Python 3 (ipykernel)",
   "language": "python",
   "name": "python3"
  },
  "language_info": {
   "codemirror_mode": {
    "name": "ipython",
    "version": 3
   },
   "file_extension": ".py",
   "mimetype": "text/x-python",
   "name": "python",
   "nbconvert_exporter": "python",
   "pygments_lexer": "ipython3",
   "version": "3.9.9"
  }
 },
 "nbformat": 4,
 "nbformat_minor": 5
}
