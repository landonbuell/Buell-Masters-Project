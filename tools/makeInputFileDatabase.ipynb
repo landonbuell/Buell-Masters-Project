{
 "cells": [
  {
   "cell_type": "markdown",
   "id": "e5e7ab32",
   "metadata": {},
   "source": [
    "## Make Input File Database\n",
    "#### Landon Buell - May 2023"
   ]
  },
  {
   "cell_type": "code",
   "execution_count": 1,
   "id": "5dd0158c",
   "metadata": {},
   "outputs": [
    {
     "data": {
      "text/plain": [
       "'C:\\\\Users\\\\lando\\\\Documents\\\\GitHub\\\\Buell-Masters-Project\\\\dataset\\\\asl_alphabet_train'"
      ]
     },
     "execution_count": 1,
     "metadata": {},
     "output_type": "execute_result"
    }
   ],
   "source": [
    "import os\n",
    "import numpy as np\n",
    "import pandas as pd\n",
    "\n",
    "DATASET_HEAD = os.path.abspath(os.path.join(\"..\",\"dataset\",\"asl_alphabet_train\"))\n",
    "ACCEPTED_FORMATS = [\"png\",\"jpg\",\"jpeg\"]\n",
    "MAX_RECURSE_DEPTH = 8\n",
    "\n",
    "DATASET_HEAD"
   ]
  },
  {
   "cell_type": "code",
   "execution_count": 2,
   "id": "af201e9a",
   "metadata": {
    "scrolled": true
   },
   "outputs": [],
   "source": [
    "class LabeledSample:\n",
    "    \"\"\" Structure to store a path to an image and a \"\"\"\n",
    "    \n",
    "    def __init__(self,pathToFile,label):\n",
    "        \"\"\" Constructor \"\"\"\n",
    "        self.path = pathToFile\n",
    "        self.classStr = label\n",
    "        self.classInt = 0\n",
    "        \n",
    "    def __str__(self) -> str:\n",
    "        \"\"\" Return a string representation of the instance \"\"\"\n",
    "        return \"{0}/{1} <- {2}\".format(self.classStr,self.classInt,self.path)\n"
   ]
  },
  {
   "cell_type": "code",
   "execution_count": 3,
   "id": "691892da",
   "metadata": {},
   "outputs": [],
   "source": [
    "# Function to Add a Sample to the running list\n",
    "\n",
    "def addSampleToList(fullPathToSample,listOfSamples):\n",
    "    \"\"\" Add a Labeled Sample instan,ce to the list of samples \"\"\"\n",
    "    head,tail = os.path.split(fullPathToSample)\n",
    "    headTokens = head.split(os.path.sep)\n",
    "    folderName = headTokens[-1] # In this dataset, the folder is the target label\n",
    "    newSample = LabeledSample(fullPathToSample,folderName)\n",
    "    listOfSamples = np.append(listOfSamples,newSample)\n",
    "    return listOfSamples\n",
    "    "
   ]
  },
  {
   "cell_type": "code",
   "execution_count": 4,
   "id": "ae16d8b9",
   "metadata": {},
   "outputs": [],
   "source": [
    "# Recurve through the DATASET_HEAD path to find samples\n",
    "\n",
    "def traverse(pathToSearch,currentDepth,listOfSamples):\n",
    "    \"\"\" Recursively traverse a directory tree \"\"\"\n",
    "    pathContents = os.listdir(pathToSearch)\n",
    "    for item in pathContents:\n",
    "        fullPathToItem = os.path.join(pathToSearch,item)\n",
    "        \n",
    "        if (os.path.isdir(fullPathToItem) == True):\n",
    "            # Item is a directory\n",
    "            if (currentDepth >= MAX_RECURSE_DEPTH):\n",
    "                continue\n",
    "            listOfSamples = traverse(fullPathToItem,currentDepth + 1,listOfSamples)\n",
    "        elif (os.path.isfile(fullPathToItem) == True):\n",
    "            # Item is a file\n",
    "            extension = item.split(\".\")[-1]\n",
    "            if (extension not in ACCEPTED_FORMATS):\n",
    "                continue\n",
    "            listOfSamples = addSampleToList(fullPathToItem,listOfSamples)\n",
    "        else:\n",
    "            # Not a file or folder\n",
    "            continue\n",
    "    return listOfSamples\n",
    "            "
   ]
  },
  {
   "cell_type": "code",
   "execution_count": 5,
   "id": "624193f3",
   "metadata": {},
   "outputs": [],
   "source": [
    "# Recurse from the head\n",
    "listOfLabeledSamples = np.array([],dtype=object)\n",
    "\n",
    "listOfLabeledSamples = traverse(DATASET_HEAD,0,listOfLabeledSamples)"
   ]
  },
  {
   "cell_type": "code",
   "execution_count": 6,
   "id": "f5e46b97",
   "metadata": {
    "scrolled": false
   },
   "outputs": [
    {
     "data": {
      "text/plain": [
       "87000"
      ]
     },
     "execution_count": 6,
     "metadata": {},
     "output_type": "execute_result"
    }
   ],
   "source": [
    "len(listOfLabeledSamples)"
   ]
  },
  {
   "cell_type": "code",
   "execution_count": 7,
   "id": "562f3fbb",
   "metadata": {},
   "outputs": [
    {
     "data": {
      "text/plain": [
       "array(['A', 'B', 'C', 'D', 'E', 'F', 'G', 'H', 'I', 'J', 'K', 'L', 'M',\n",
       "       'N', 'O', 'P', 'Q', 'R', 'S', 'T', 'U', 'V', 'W', 'X', 'Y', 'Z',\n",
       "       'del', 'nothing', 'space'], dtype='<U7')"
      ]
     },
     "execution_count": 7,
     "metadata": {},
     "output_type": "execute_result"
    }
   ],
   "source": [
    "np.unique([x.classStr for x in listOfLabeledSamples])"
   ]
  },
  {
   "cell_type": "code",
   "execution_count": 8,
   "id": "bda123f9",
   "metadata": {},
   "outputs": [
    {
     "data": {
      "text/plain": [
       "'A/0 <- C:\\\\Users\\\\lando\\\\Documents\\\\GitHub\\\\Buell-Masters-Project\\\\dataset\\\\asl_alphabet_train\\\\asl_alphabet_train\\\\A\\\\A1.jpg'"
      ]
     },
     "execution_count": 8,
     "metadata": {},
     "output_type": "execute_result"
    }
   ],
   "source": [
    "str(listOfLabeledSamples[0])"
   ]
  },
  {
   "cell_type": "code",
   "execution_count": 9,
   "id": "2d84b5b8",
   "metadata": {},
   "outputs": [
    {
     "data": {
      "text/plain": [
       "['A',\n",
       " 'B',\n",
       " 'C',\n",
       " 'D',\n",
       " 'E',\n",
       " 'F',\n",
       " 'G',\n",
       " 'H',\n",
       " 'I',\n",
       " 'J',\n",
       " 'K',\n",
       " 'L',\n",
       " 'M',\n",
       " 'N',\n",
       " 'O',\n",
       " 'P',\n",
       " 'Q',\n",
       " 'R',\n",
       " 'S',\n",
       " 'T',\n",
       " 'U',\n",
       " 'V',\n",
       " 'W',\n",
       " 'X',\n",
       " 'Y',\n",
       " 'Z']"
      ]
     },
     "execution_count": 9,
     "metadata": {},
     "output_type": "execute_result"
    }
   ],
   "source": [
    "import string\n",
    "LETTERS_UPPER = list(string.ascii_uppercase)\n",
    "LETTERS_UPPER"
   ]
  },
  {
   "cell_type": "code",
   "execution_count": 10,
   "id": "95038e26",
   "metadata": {},
   "outputs": [],
   "source": [
    "STR_TO_INT_MAP = dict()\n",
    "for ii,letter in enumerate(LETTERS_UPPER):\n",
    "    STR_TO_INT_MAP.update({letter:ii})\n",
    "STR_TO_INT_MAP.update({\"space\":len(STR_TO_INT_MAP) + 0})\n",
    "STR_TO_INT_MAP.update({\"del\":len(STR_TO_INT_MAP) + 0})\n",
    "STR_TO_INT_MAP.update({\"nothing\":len(STR_TO_INT_MAP) + 0})"
   ]
  },
  {
   "cell_type": "code",
   "execution_count": 11,
   "id": "2e2e161a",
   "metadata": {},
   "outputs": [
    {
     "name": "stdout",
     "output_type": "stream",
     "text": [
      "A        -> 0\n",
      "B        -> 1\n",
      "C        -> 2\n",
      "D        -> 3\n",
      "E        -> 4\n",
      "F        -> 5\n",
      "G        -> 6\n",
      "H        -> 7\n",
      "I        -> 8\n",
      "J        -> 9\n",
      "K        -> 10\n",
      "L        -> 11\n",
      "M        -> 12\n",
      "N        -> 13\n",
      "O        -> 14\n",
      "P        -> 15\n",
      "Q        -> 16\n",
      "R        -> 17\n",
      "S        -> 18\n",
      "T        -> 19\n",
      "U        -> 20\n",
      "V        -> 21\n",
      "W        -> 22\n",
      "X        -> 23\n",
      "Y        -> 24\n",
      "Z        -> 25\n",
      "space    -> 26\n",
      "del      -> 27\n",
      "nothing  -> 28\n"
     ]
    }
   ],
   "source": [
    "for (key,val) in STR_TO_INT_MAP.items():\n",
    "    line = \"{0:<8} -> {1}\".format(key,val)\n",
    "    print(line)"
   ]
  },
  {
   "cell_type": "code",
   "execution_count": 12,
   "id": "551620a6",
   "metadata": {},
   "outputs": [],
   "source": [
    "for item in listOfLabeledSamples:\n",
    "    classInt = STR_TO_INT_MAP[item.classStr]\n",
    "    item.classInt = classInt"
   ]
  },
  {
   "cell_type": "code",
   "execution_count": 13,
   "id": "1c7ecda8",
   "metadata": {},
   "outputs": [
    {
     "data": {
      "text/plain": [
       "'A/0 <- C:\\\\Users\\\\lando\\\\Documents\\\\GitHub\\\\Buell-Masters-Project\\\\dataset\\\\asl_alphabet_train\\\\asl_alphabet_train\\\\A\\\\A1.jpg'"
      ]
     },
     "execution_count": 13,
     "metadata": {},
     "output_type": "execute_result"
    }
   ],
   "source": [
    "listOfLabeledSamples[0].__str__()"
   ]
  },
  {
   "cell_type": "code",
   "execution_count": 14,
   "id": "c4b23685",
   "metadata": {},
   "outputs": [],
   "source": [
    "frame = pd.DataFrame(data=None,index=None)\n",
    "frame[\"filePath\"] = [x.path for x in listOfLabeledSamples]\n",
    "frame[\"classInt\"] = [x.classInt for x in listOfLabeledSamples]\n",
    "frame[\"classStr\"] = [x.classStr for x in listOfLabeledSamples]"
   ]
  },
  {
   "cell_type": "code",
   "execution_count": 15,
   "id": "5b81978c",
   "metadata": {},
   "outputs": [
    {
     "data": {
      "text/html": [
       "<div>\n",
       "<style scoped>\n",
       "    .dataframe tbody tr th:only-of-type {\n",
       "        vertical-align: middle;\n",
       "    }\n",
       "\n",
       "    .dataframe tbody tr th {\n",
       "        vertical-align: top;\n",
       "    }\n",
       "\n",
       "    .dataframe thead th {\n",
       "        text-align: right;\n",
       "    }\n",
       "</style>\n",
       "<table border=\"1\" class=\"dataframe\">\n",
       "  <thead>\n",
       "    <tr style=\"text-align: right;\">\n",
       "      <th></th>\n",
       "      <th>filePath</th>\n",
       "      <th>classInt</th>\n",
       "      <th>classStr</th>\n",
       "    </tr>\n",
       "  </thead>\n",
       "  <tbody>\n",
       "    <tr>\n",
       "      <th>0</th>\n",
       "      <td>C:\\Users\\lando\\Documents\\GitHub\\Buell-Masters-...</td>\n",
       "      <td>0</td>\n",
       "      <td>A</td>\n",
       "    </tr>\n",
       "    <tr>\n",
       "      <th>1</th>\n",
       "      <td>C:\\Users\\lando\\Documents\\GitHub\\Buell-Masters-...</td>\n",
       "      <td>0</td>\n",
       "      <td>A</td>\n",
       "    </tr>\n",
       "    <tr>\n",
       "      <th>2</th>\n",
       "      <td>C:\\Users\\lando\\Documents\\GitHub\\Buell-Masters-...</td>\n",
       "      <td>0</td>\n",
       "      <td>A</td>\n",
       "    </tr>\n",
       "    <tr>\n",
       "      <th>3</th>\n",
       "      <td>C:\\Users\\lando\\Documents\\GitHub\\Buell-Masters-...</td>\n",
       "      <td>0</td>\n",
       "      <td>A</td>\n",
       "    </tr>\n",
       "    <tr>\n",
       "      <th>4</th>\n",
       "      <td>C:\\Users\\lando\\Documents\\GitHub\\Buell-Masters-...</td>\n",
       "      <td>0</td>\n",
       "      <td>A</td>\n",
       "    </tr>\n",
       "    <tr>\n",
       "      <th>5</th>\n",
       "      <td>C:\\Users\\lando\\Documents\\GitHub\\Buell-Masters-...</td>\n",
       "      <td>0</td>\n",
       "      <td>A</td>\n",
       "    </tr>\n",
       "    <tr>\n",
       "      <th>6</th>\n",
       "      <td>C:\\Users\\lando\\Documents\\GitHub\\Buell-Masters-...</td>\n",
       "      <td>0</td>\n",
       "      <td>A</td>\n",
       "    </tr>\n",
       "    <tr>\n",
       "      <th>7</th>\n",
       "      <td>C:\\Users\\lando\\Documents\\GitHub\\Buell-Masters-...</td>\n",
       "      <td>0</td>\n",
       "      <td>A</td>\n",
       "    </tr>\n",
       "    <tr>\n",
       "      <th>8</th>\n",
       "      <td>C:\\Users\\lando\\Documents\\GitHub\\Buell-Masters-...</td>\n",
       "      <td>0</td>\n",
       "      <td>A</td>\n",
       "    </tr>\n",
       "    <tr>\n",
       "      <th>9</th>\n",
       "      <td>C:\\Users\\lando\\Documents\\GitHub\\Buell-Masters-...</td>\n",
       "      <td>0</td>\n",
       "      <td>A</td>\n",
       "    </tr>\n",
       "  </tbody>\n",
       "</table>\n",
       "</div>"
      ],
      "text/plain": [
       "                                            filePath  classInt classStr\n",
       "0  C:\\Users\\lando\\Documents\\GitHub\\Buell-Masters-...         0        A\n",
       "1  C:\\Users\\lando\\Documents\\GitHub\\Buell-Masters-...         0        A\n",
       "2  C:\\Users\\lando\\Documents\\GitHub\\Buell-Masters-...         0        A\n",
       "3  C:\\Users\\lando\\Documents\\GitHub\\Buell-Masters-...         0        A\n",
       "4  C:\\Users\\lando\\Documents\\GitHub\\Buell-Masters-...         0        A\n",
       "5  C:\\Users\\lando\\Documents\\GitHub\\Buell-Masters-...         0        A\n",
       "6  C:\\Users\\lando\\Documents\\GitHub\\Buell-Masters-...         0        A\n",
       "7  C:\\Users\\lando\\Documents\\GitHub\\Buell-Masters-...         0        A\n",
       "8  C:\\Users\\lando\\Documents\\GitHub\\Buell-Masters-...         0        A\n",
       "9  C:\\Users\\lando\\Documents\\GitHub\\Buell-Masters-...         0        A"
      ]
     },
     "execution_count": 15,
     "metadata": {},
     "output_type": "execute_result"
    }
   ],
   "source": [
    "frame.head(10)"
   ]
  },
  {
   "cell_type": "code",
   "execution_count": 20,
   "id": "232ec8af",
   "metadata": {},
   "outputs": [
    {
     "data": {
      "text/plain": [
       "(87000, 3)"
      ]
     },
     "execution_count": 20,
     "metadata": {},
     "output_type": "execute_result"
    }
   ],
   "source": [
    "frame.shape"
   ]
  },
  {
   "cell_type": "code",
   "execution_count": 18,
   "id": "8ff9e15b",
   "metadata": {},
   "outputs": [
    {
     "data": {
      "text/plain": [
       "array([[<AxesSubplot:title={'center':'classInt'}>]], dtype=object)"
      ]
     },
     "execution_count": 18,
     "metadata": {},
     "output_type": "execute_result"
    },
    {
     "data": {
      "image/png": "[encoded data removed]",
      "text/plain": [
       "<Figure size 432x288 with 1 Axes>"
      ]
     },
     "metadata": {
      "needs_background": "light"
     },
     "output_type": "display_data"
    }
   ],
   "source": [
    "frame.hist(column=\"classInt\",grid=True,bins=29)"
   ]
  },
  {
   "cell_type": "code",
   "execution_count": 19,
   "id": "29d72a0a",
   "metadata": {},
   "outputs": [
    {
     "data": {
      "text/plain": [
       "'C:\\\\Users\\\\lando\\\\Documents\\\\GitHub\\\\Buell-Masters-Project\\\\inputFiles\\\\labeledSamples.csv'"
      ]
     },
     "execution_count": 19,
     "metadata": {},
     "output_type": "execute_result"
    }
   ],
   "source": [
    "exportPath = os.path.abspath(os.path.join(\"..\",\"inputFiles\",\"labeledSamples.csv\"))\n",
    "exportPath"
   ]
  },
  {
   "cell_type": "code",
   "execution_count": 23,
   "id": "124667db",
   "metadata": {},
   "outputs": [],
   "source": [
    "frame.to_csv(exportPath,index=None)"
   ]
  },
  {
   "cell_type": "code",
   "execution_count": 20,
   "id": "4b5dfdd8",
   "metadata": {},
   "outputs": [],
   "source": [
    "frameCondensed = frame.iloc[::10]"
   ]
  },
  {
   "cell_type": "code",
   "execution_count": 21,
   "id": "dc8f3a14",
   "metadata": {},
   "outputs": [
    {
     "data": {
      "text/plain": [
       "(8700, 3)"
      ]
     },
     "execution_count": 21,
     "metadata": {},
     "output_type": "execute_result"
    }
   ],
   "source": [
    "frameCondensed.shape"
   ]
  },
  {
   "cell_type": "code",
   "execution_count": 22,
   "id": "0186ad8a",
   "metadata": {},
   "outputs": [
    {
     "data": {
      "text/plain": [
       "array([[<AxesSubplot:title={'center':'classInt'}>]], dtype=object)"
      ]
     },
     "execution_count": 22,
     "metadata": {},
     "output_type": "execute_result"
    },
    {
     "data": {
      "image/png": "[encoded data removed]",
      "text/plain": [
       "<Figure size 432x288 with 1 Axes>"
      ]
     },
     "metadata": {
      "needs_background": "light"
     },
     "output_type": "display_data"
    }
   ],
   "source": [
    "frameCondensed.hist(column=\"classInt\",grid=True,bins=29)"
   ]
  },
  {
   "cell_type": "code",
   "execution_count": null,
   "id": "b6d041e3",
   "metadata": {},
   "outputs": [],
   "source": []
  }
 ],
 "metadata": {
  "kernelspec": {
   "display_name": "Python 3 (ipykernel)",
   "language": "python",
   "name": "python3"
  },
  "language_info": {
   "codemirror_mode": {
    "name": "ipython",
    "version": 3
   },
   "file_extension": ".py",
   "mimetype": "text/x-python",
   "name": "python",
   "nbconvert_exporter": "python",
   "pygments_lexer": "ipython3",
   "version": "3.9.9"
  }
 },
 "nbformat": 4,
 "nbformat_minor": 5
}
