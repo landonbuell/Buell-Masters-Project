{
 "cells": [
  {
   "cell_type": "markdown",
   "id": "48d51821",
   "metadata": {},
   "source": [
    "## Playing with PyTorch Models\n",
    "#### Landon Buell - June 2023"
   ]
  },
  {
   "cell_type": "code",
   "execution_count": 1,
   "id": "9998fdc3",
   "metadata": {},
   "outputs": [],
   "source": [
    "import torch\n",
    "import torchinfo"
   ]
  },
  {
   "cell_type": "code",
   "execution_count": 2,
   "id": "15274c13",
   "metadata": {},
   "outputs": [],
   "source": [
    "NUM_CLASSES = 10\n",
    "BATCH_SIZE = 128\n",
    "SAMPLE_SHAPE = (3,184,184)\n",
    "\n",
    "X = torch.zeros(size=((BATCH_SIZE,) + SAMPLE_SHAPE))"
   ]
  },
  {
   "cell_type": "code",
   "execution_count": 3,
   "id": "1e75146f",
   "metadata": {},
   "outputs": [
    {
     "data": {
      "text/plain": [
       "torch.Size([128, 3, 184, 184])"
      ]
     },
     "execution_count": 3,
     "metadata": {},
     "output_type": "execute_result"
    }
   ],
   "source": [
    "X.shape"
   ]
  },
  {
   "cell_type": "markdown",
   "id": "0c0659cb",
   "metadata": {},
   "source": [
    "#### Create some Torch Layers + Show Size"
   ]
  },
  {
   "cell_type": "code",
   "execution_count": 4,
   "id": "33a30bba",
   "metadata": {},
   "outputs": [
    {
     "name": "stdout",
     "output_type": "stream",
     "text": [
      "torch.Size([128, 64, 182, 182])\n"
     ]
    }
   ],
   "source": [
    "layer00 = torch.nn.Sequential(\n",
    "    torch.nn.Conv2d(\n",
    "        in_channels=3,\n",
    "        out_channels=64,\n",
    "        kernel_size=(3,3),\n",
    "        stride=(1,1)),\n",
    "    torch.nn.ReLU())\n",
    "\n",
    "x0 = layer00(X)\n",
    "print(x0.shape)"
   ]
  },
  {
   "cell_type": "code",
   "execution_count": 5,
   "id": "9aad7ec1",
   "metadata": {
    "scrolled": true
   },
   "outputs": [
    {
     "name": "stdout",
     "output_type": "stream",
     "text": [
      "torch.Size([128, 64, 180, 180])\n"
     ]
    }
   ],
   "source": [
    "layer01 = torch.nn.Sequential(\n",
    "    torch.nn.Conv2d(\n",
    "        in_channels=64,\n",
    "        out_channels=64,\n",
    "        kernel_size=(3,3),\n",
    "        stride=(1,1)),\n",
    "    torch.nn.ReLU())\n",
    "\n",
    "x1 = layer01(x0)\n",
    "print(x1.shape)"
   ]
  },
  {
   "cell_type": "code",
   "execution_count": 33,
   "id": "9995eddb",
   "metadata": {},
   "outputs": [
    {
     "name": "stdout",
     "output_type": "stream",
     "text": [
      "torch.Size([128, 64, 90, 90])\n"
     ]
    }
   ],
   "source": [
    "layer02 = torch.nn.Sequential(\n",
    "    torch.nn.MaxPool2d(\n",
    "        kernel_size=(2,2),\n",
    "        stride=(2,2)))\n",
    "\n",
    "x2 = layer02(x1)\n",
    "print(x2.shape)"
   ]
  },
  {
   "cell_type": "code",
   "execution_count": 35,
   "id": "67a98f6c",
   "metadata": {},
   "outputs": [
    {
     "name": "stdout",
     "output_type": "stream",
     "text": [
      "torch.Size([128, 64, 86, 86])\n"
     ]
    }
   ],
   "source": [
    "layer04 = torch.nn.Sequential(\n",
    "    torch.nn.Conv2d(\n",
    "        in_channels=64,\n",
    "        out_channels=64,\n",
    "        kernel_size=(3,3),\n",
    "        stride=(1,1)),\n",
    "    torch.nn.ReLU())\n",
    "\n",
    "x4 = layer04(x3)\n",
    "print(x4.shape)"
   ]
  },
  {
   "cell_type": "code",
   "execution_count": 36,
   "id": "202dc7a2",
   "metadata": {},
   "outputs": [
    {
     "name": "stdout",
     "output_type": "stream",
     "text": [
      "torch.Size([128, 64, 84, 84])\n"
     ]
    }
   ],
   "source": [
    "layer05 = torch.nn.Sequential(\n",
    "    torch.nn.Conv2d(\n",
    "        in_channels=64,\n",
    "        out_channels=64,\n",
    "        kernel_size=(3,3),\n",
    "        stride=(1,1)),\n",
    "    torch.nn.ReLU())\n",
    "\n",
    "x5 = layer05(x4)\n",
    "print(x5.shape)"
   ]
  },
  {
   "cell_type": "code",
   "execution_count": 37,
   "id": "9fa0b827",
   "metadata": {},
   "outputs": [
    {
     "name": "stdout",
     "output_type": "stream",
     "text": [
      "torch.Size([128, 64, 42, 42])\n"
     ]
    }
   ],
   "source": [
    "layer06 = torch.nn.Sequential(\n",
    "    torch.nn.MaxPool2d(\n",
    "        kernel_size=(2,2),\n",
    "        stride=(2,2)))\n",
    "\n",
    "x6 = layer06(x5)\n",
    "print(x6.shape)"
   ]
  },
  {
   "cell_type": "code",
   "execution_count": 38,
   "id": "633777e9",
   "metadata": {},
   "outputs": [
    {
     "name": "stdout",
     "output_type": "stream",
     "text": [
      "torch.Size([128, 64, 40, 40])\n"
     ]
    }
   ],
   "source": [
    "layer07 = torch.nn.Sequential(\n",
    "    torch.nn.Conv2d(\n",
    "        in_channels=64,\n",
    "        out_channels=64,\n",
    "        kernel_size=(3,3),\n",
    "        stride=(1,1)),\n",
    "    torch.nn.ReLU())\n",
    "\n",
    "x7 = layer07(x6)\n",
    "print(x7.shape)"
   ]
  },
  {
   "cell_type": "code",
   "execution_count": 41,
   "id": "fefe812a",
   "metadata": {},
   "outputs": [
    {
     "name": "stdout",
     "output_type": "stream",
     "text": [
      "torch.Size([128, 64, 38, 38])\n"
     ]
    }
   ],
   "source": [
    "layer08 = torch.nn.Sequential(\n",
    "    torch.nn.Conv2d(\n",
    "        in_channels=64,\n",
    "        out_channels=64,\n",
    "        kernel_size=(3,3),\n",
    "        stride=(1,1)),\n",
    "    torch.nn.ReLU())\n",
    "\n",
    "x8 = layer08(x7)\n",
    "print(x8.shape)"
   ]
  },
  {
   "cell_type": "code",
   "execution_count": 46,
   "id": "36f8ac0d",
   "metadata": {},
   "outputs": [
    {
     "name": "stdout",
     "output_type": "stream",
     "text": [
      "torch.Size([128, 64, 18, 18])\n"
     ]
    }
   ],
   "source": [
    "layer09 = torch.nn.Sequential(\n",
    "    torch.nn.MaxPool2d(\n",
    "        kernel_size=(3,3),\n",
    "        stride=(2,2)))\n",
    "\n",
    "x9 = layer09(x8)\n",
    "print(x9.shape)"
   ]
  },
  {
   "cell_type": "code",
   "execution_count": 47,
   "id": "04f2782f",
   "metadata": {},
   "outputs": [
    {
     "name": "stdout",
     "output_type": "stream",
     "text": [
      "torch.Size([128, 64, 16, 16])\n"
     ]
    }
   ],
   "source": [
    "layer10 = torch.nn.Sequential(\n",
    "    torch.nn.Conv2d(\n",
    "        in_channels=64,\n",
    "        out_channels=64,\n",
    "        kernel_size=(3,3),\n",
    "        stride=(1,1)),\n",
    "    torch.nn.ReLU())\n",
    "\n",
    "x10 = layer10(x9)\n",
    "print(x10.shape)"
   ]
  },
  {
   "cell_type": "code",
   "execution_count": 48,
   "id": "5836d31c",
   "metadata": {},
   "outputs": [
    {
     "name": "stdout",
     "output_type": "stream",
     "text": [
      "torch.Size([128, 64, 14, 14])\n"
     ]
    }
   ],
   "source": [
    "layer11 = torch.nn.Sequential(\n",
    "    torch.nn.Conv2d(\n",
    "        in_channels=64,\n",
    "        out_channels=64,\n",
    "        kernel_size=(3,3),\n",
    "        stride=(1,1)),\n",
    "    torch.nn.ReLU())\n",
    "\n",
    "x11 = layer11(x10)\n",
    "print(x11.shape)"
   ]
  },
  {
   "cell_type": "code",
   "execution_count": 50,
   "id": "dbeb4d4a",
   "metadata": {},
   "outputs": [
    {
     "name": "stdout",
     "output_type": "stream",
     "text": [
      "torch.Size([128, 64, 6, 6])\n"
     ]
    }
   ],
   "source": [
    "layer12 = torch.nn.Sequential(\n",
    "    torch.nn.MaxPool2d(\n",
    "        kernel_size=(3,3),\n",
    "        stride=(2,2)))\n",
    "\n",
    "x12 = layer12(x11)\n",
    "print(x12.shape)"
   ]
  },
  {
   "cell_type": "code",
   "execution_count": 51,
   "id": "c35ed3af",
   "metadata": {},
   "outputs": [
    {
     "name": "stdout",
     "output_type": "stream",
     "text": [
      "torch.Size([128, 2304])\n"
     ]
    }
   ],
   "source": [
    "layer13 = torch.nn.Sequential(\n",
    "    torch.nn.Flatten())\n",
    "\n",
    "x13 = layer13(x12)\n",
    "print(x13.shape)"
   ]
  },
  {
   "cell_type": "markdown",
   "id": "dbc05d63",
   "metadata": {},
   "source": [
    "#### Make a torch.nn.Module subclass"
   ]
  },
  {
   "cell_type": "code",
   "execution_count": 84,
   "id": "b47f83f1",
   "metadata": {},
   "outputs": [],
   "source": [
    "class InspiredVgg16(torch.nn.Module):\n",
    "    \"\"\" Class for a Model inspired by VGG-16 \"\"\"\n",
    "    \n",
    "    def __init__(self,numClasses: int):\n",
    "        \"\"\" Constructor \"\"\"\n",
    "        self._numClasses = numClasses\n",
    "        self._layers  = [None] * 24\n",
    "        \n",
    "        self.__initLayerGroup01()\n",
    "        self.__initLayerGroup02()\n",
    "        self.__initLayerGroup03()\n",
    "        self.__initLayerGroup04()\n",
    "        self.__initDenseLayers()\n",
    "        \n",
    "    def __del__(self):\n",
    "        \"\"\" Destructor \"\"\"\n",
    "        pass\n",
    "    \n",
    "    def __initLayerGroup01(self):\n",
    "        \"\"\" Initialize Layer Chain \"\"\"\n",
    "        self._layers[0] = torch.nn.Sequential(\n",
    "            torch.nn.Conv2d(\n",
    "                in_channels=3,\n",
    "                out_channels=64,\n",
    "                kernel_size=(3,3),\n",
    "                stride=(1,1)),\n",
    "            torch.nn.ReLU())\n",
    "        self._layers[1] = torch.nn.Sequential(\n",
    "            torch.nn.Conv2d(\n",
    "                in_channels=64,\n",
    "                out_channels=64,\n",
    "                kernel_size=(3,3),\n",
    "                stride=(1,1)),\n",
    "            torch.nn.ReLU())\n",
    "        self._layers[2] = torch.nn.Sequential(\n",
    "            torch.nn.MaxPool2d(\n",
    "                kernel_size=(3,3),\n",
    "                stride=(2,2)))\n",
    "        return None\n",
    "    \n",
    "    def __initLayerGroup02(self):\n",
    "        \"\"\" Initialize Layer Chain \"\"\"\n",
    "        self._layers[3] = torch.nn.Sequential(\n",
    "            torch.nn.Conv2d(\n",
    "                in_channels=64,\n",
    "                out_channels=64,\n",
    "                kernel_size=(3,3),\n",
    "                stride=(1,1)),\n",
    "            torch.nn.ReLU())\n",
    "        self._layers[4] = torch.nn.Sequential(\n",
    "            torch.nn.Conv2d(\n",
    "                in_channels=64,\n",
    "                out_channels=64,\n",
    "                kernel_size=(3,3),\n",
    "                stride=(1,1)),\n",
    "            torch.nn.ReLU())\n",
    "        self._layers[5] = torch.nn.Sequential(\n",
    "            torch.nn.MaxPool2d(\n",
    "                kernel_size=(3,3),\n",
    "                stride=(2,2)))\n",
    "        return None\n",
    "    \n",
    "    def __initLayerGroup03(self):\n",
    "        \"\"\" Initialize Layer Chain \"\"\"\n",
    "        self._layers[6] = torch.nn.Sequential(\n",
    "            torch.nn.Conv2d(\n",
    "                in_channels=64,\n",
    "                out_channels=32,\n",
    "                kernel_size=(3,3),\n",
    "                stride=(1,1)),\n",
    "            torch.nn.ReLU())\n",
    "        self._layers[7] = torch.nn.Sequential(\n",
    "            torch.nn.Conv2d(\n",
    "                in_channels=32,\n",
    "                out_channels=32,\n",
    "                kernel_size=(3,3),\n",
    "                stride=(1,1)),\n",
    "            torch.nn.ReLU())\n",
    "        self._layers[8] = torch.nn.Sequential(\n",
    "            torch.nn.MaxPool2d(\n",
    "                kernel_size=(3,3),\n",
    "                stride=(2,2)))\n",
    "        return None\n",
    "    \n",
    "    def __initLayerGroup04(self):\n",
    "        \"\"\" Initialize Layer Chain \"\"\"\n",
    "        self._layers[9] = torch.nn.Sequential(\n",
    "            torch.nn.Conv2d(\n",
    "                in_channels=32,\n",
    "                out_channels=32,\n",
    "                kernel_size=(3,3),\n",
    "                stride=(1,1)),\n",
    "            torch.nn.ReLU())\n",
    "        self._layers[10] = torch.nn.Sequential(\n",
    "            torch.nn.Conv2d(\n",
    "                in_channels=32,\n",
    "                out_channels=32,\n",
    "                kernel_size=(3,3),\n",
    "                stride=(1,1)),\n",
    "            torch.nn.ReLU())\n",
    "        self._layers[11] = torch.nn.Sequential(\n",
    "            torch.nn.MaxPool2d(\n",
    "                kernel_size=(3,3),\n",
    "                stride=(1,1)))\n",
    "        return None\n",
    "    \n",
    "    def __initDenseLayers(self):\n",
    "        \"\"\" Initialize Dense Layers \"\"\"\n",
    "        self._layers[12] = torch.nn.Sequential(\n",
    "            torch.nn.Flatten(\n",
    "                start_dim=1,\n",
    "                end_dim=-1))\n",
    "        self._layers[13] = torch.nn.Sequential(\n",
    "            torch.nn.Linear(\n",
    "                in_features=6272,\n",
    "                out_features=4096),\n",
    "            torch.nn.ReLU())\n",
    "        self._layers[14] = torch.nn.Sequential(\n",
    "            torch.nn.Linear(\n",
    "                in_features=4096,\n",
    "                out_features=2048),\n",
    "            torch.nn.ReLU())\n",
    "        self._layers[15] = torch.nn.Sequential(\n",
    "            torch.nn.Linear(\n",
    "                in_features=2048,\n",
    "                out_features=1024),\n",
    "            torch.nn.ReLU())\n",
    "        self._layers[16] = torch.nn.Sequential(\n",
    "            torch.nn.Linear(\n",
    "                in_features=1024,\n",
    "                out_features=512),\n",
    "            torch.nn.ReLU())\n",
    "        self._layers[17] = torch.nn.Sequential(\n",
    "            torch.nn.Linear(\n",
    "                in_features=512,\n",
    "                out_features=self._numClasses),\n",
    "            torch.nn.Softmax())\n",
    "        return None\n",
    "    \n",
    "    def forward(self, inputs: torch.Tensor) -> torch.Tensor:\n",
    "        \"\"\" Define Forward pass mechanism \"\"\"\n",
    "        x = torch.clone(inputs)\n",
    "        for ii,layer in enumerate(self._layers):\n",
    "            if (layer is None):\n",
    "                continue\n",
    "            x = layer(x)\n",
    "            msg = \"Layer {0}: Output Shape = {1}\".format(ii,x.shape)\n",
    "            print(msg)\n",
    "        return x\n",
    "        "
   ]
  },
  {
   "cell_type": "code",
   "execution_count": 85,
   "id": "27dc0f77",
   "metadata": {},
   "outputs": [],
   "source": [
    "model = InspiredVgg16(10)"
   ]
  },
  {
   "cell_type": "code",
   "execution_count": 86,
   "id": "94ebd1e9",
   "metadata": {},
   "outputs": [
    {
     "name": "stdout",
     "output_type": "stream",
     "text": [
      "Layer 0: Output Shape = torch.Size([16, 64, 198, 198])\n",
      "Layer 1: Output Shape = torch.Size([16, 64, 196, 196])\n",
      "Layer 2: Output Shape = torch.Size([16, 64, 97, 97])\n",
      "Layer 3: Output Shape = torch.Size([16, 64, 95, 95])\n",
      "Layer 4: Output Shape = torch.Size([16, 64, 93, 93])\n",
      "Layer 5: Output Shape = torch.Size([16, 64, 46, 46])\n",
      "Layer 6: Output Shape = torch.Size([16, 32, 44, 44])\n",
      "Layer 7: Output Shape = torch.Size([16, 32, 42, 42])\n",
      "Layer 8: Output Shape = torch.Size([16, 32, 20, 20])\n",
      "Layer 9: Output Shape = torch.Size([16, 32, 18, 18])\n",
      "Layer 10: Output Shape = torch.Size([16, 32, 16, 16])\n",
      "Layer 11: Output Shape = torch.Size([16, 32, 14, 14])\n",
      "Layer 12: Output Shape = torch.Size([16, 6272])\n",
      "Layer 13: Output Shape = torch.Size([16, 4096])\n",
      "Layer 14: Output Shape = torch.Size([16, 2048])\n",
      "Layer 15: Output Shape = torch.Size([16, 1024])\n",
      "Layer 16: Output Shape = torch.Size([16, 512])\n",
      "Layer 17: Output Shape = torch.Size([16, 10])\n"
     ]
    },
    {
     "name": "stderr",
     "output_type": "stream",
     "text": [
      "C:\\Users\\lando\\AppData\\Local\\Programs\\Python\\Python39\\lib\\site-packages\\torch\\nn\\modules\\container.py:217: UserWarning: Implicit dimension choice for softmax has been deprecated. Change the call to include dim=X as an argument.\n",
      "  input = module(input)\n"
     ]
    }
   ],
   "source": [
    "y = model.forward(X)"
   ]
  },
  {
   "cell_type": "code",
   "execution_count": null,
   "id": "5b209345",
   "metadata": {},
   "outputs": [],
   "source": []
  }
 ],
 "metadata": {
  "kernelspec": {
   "display_name": "Python 3 (ipykernel)",
   "language": "python",
   "name": "python3"
  },
  "language_info": {
   "codemirror_mode": {
    "name": "ipython",
    "version": 3
   },
   "file_extension": ".py",
   "mimetype": "text/x-python",
   "name": "python",
   "nbconvert_exporter": "python",
   "pygments_lexer": "ipython3",
   "version": "3.9.9"
  }
 },
 "nbformat": 4,
 "nbformat_minor": 5
}
